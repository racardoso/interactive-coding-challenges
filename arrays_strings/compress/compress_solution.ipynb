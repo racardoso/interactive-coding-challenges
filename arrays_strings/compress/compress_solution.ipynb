{
 "cells": [
  {
   "cell_type": "markdown",
   "metadata": {},
   "source": [
    "Esse notebook foi feito por [Donne Martin](http://donnemartin.com).  Código fonte e informações sobre a licença no [GitHub](https://github.com/donnemartin/interactive-coding-challenges).\n",
    "\n",
    "Tradução: Rogerio Alves"
   ]
  },
  {
   "cell_type": "markdown",
   "metadata": {},
   "source": [
    "# Solução"
   ]
  },
  {
   "cell_type": "markdown",
   "metadata": {},
   "source": [
    "## Problema: Comprimir uma string tal que 'AAABCCDDDD' vire 'A3BC2D4'.  A string só deve ser comprimida se houver economia de espaço.\n",
    "\n",
    "* [Restrições](#Restrições)\n",
    "* [Casos de Teste](#Casos-de-Teste)\n",
    "* [Algoritimo](#Algoritmo)\n",
    "* [Código](#Código)\n",
    "* [Teste Unitário](#Teste-Unitário)"
   ]
  },
  {
   "cell_type": "markdown",
   "metadata": {},
   "source": [
    "## Restrições\n",
    "\n",
    "* Todos os caractéres da string são ASCII?\n",
    "    * Sim\n",
    "    * Nota: Dependendo da linguagem. caractéres Unicode podem necessitar de bibliotecas ou funções especificas.\n",
    "* Posso usar estruturas de dados adicionais?\n",
    "    * Sim\n",
    "* Posso supor que as strings cambem na memória?\n",
    "    * Sim"
   ]
  },
  {
   "cell_type": "markdown",
   "metadata": {},
   "source": [
    "## Casos de Teste\n",
    "\n",
    "* None -> None\n",
    "* '' -> ''\n",
    "* 'AABBCC' -> 'AABBCC'\n",
    "* 'AAABCCDDDD' -> 'A3BC2D4'"
   ]
  },
  {
   "cell_type": "markdown",
   "metadata": {},
   "source": [
    "## Algoritmo\n",
    "\n",
    "* Para cada caractére na string\n",
    "    * Se o char for o mesmo que o último char (last_char), incremente o contador\n",
    "    * Senão\n",
    "        * Adicione o last_char e o contador a string comprimida (compressed_string)\n",
    "        * last_char = char\n",
    "        * count = 1\n",
    "* Adicione o last_char e o contador a compressed_string\n",
    "* Se o tamanho da string comprimida for menor que o tamanho da string\n",
    "    * Retorne compressed string\n",
    "* Senão\n",
    "    * Retorne string\n",
    "\n",
    "Complexidade:\n",
    "* Tempo: O(n)\n",
    "* Memória: O(n)\n",
    "\n",
    "Nota sobre a complexidade:\n",
    "* String em Python são imutáveis entretanto, adicionar caractéres (strings) a uma outra string é otimizado em CPython, possui complexidade de tempo de execução O(n) e estende a string _in loco_. Para maiores detalhes veja o [post no Stack Overflow](http://stackoverflow.com/a/4435752)."
   ]
  },
  {
   "cell_type": "markdown",
   "metadata": {},
   "source": [
    "## Código"
   ]
  },
  {
   "cell_type": "code",
   "execution_count": 1,
   "metadata": {},
   "outputs": [],
   "source": [
    "class CompressString(object):\n",
    "\n",
    "    def compress(self, string):\n",
    "        if string is None or not string:\n",
    "            return string\n",
    "        result = ''\n",
    "        prev_char = string[0]\n",
    "        count = 0\n",
    "        for char in string:\n",
    "            if char == prev_char:\n",
    "                count += 1\n",
    "            else:\n",
    "                result += self._calc_partial_result(prev_char, count)\n",
    "                prev_char = char\n",
    "                count = 1\n",
    "        result += self._calc_partial_result(prev_char, count)\n",
    "        return result if len(result) < len(string) else string\n",
    "\n",
    "    def _calc_partial_result(self, prev_char, count):\n",
    "        return prev_char + (str(count) if count > 1 else '')"
   ]
  },
  {
   "cell_type": "markdown",
   "metadata": {},
   "source": [
    "Outra versão do mesmo algoritmo:"
   ]
  },
  {
   "cell_type": "code",
   "execution_count": null,
   "metadata": {},
   "outputs": [],
   "source": [
    "class CompressString2(object):\n",
    "\n",
    "    def compress(self, string):\n",
    "        if string == None or string == '':\n",
    "            return string\n",
    "        compressed = []\n",
    "        last_char = ''\n",
    "        count = 1\n",
    "        for i in range(0, len(string)):\n",
    "            if last_char != string[i]:\n",
    "                if count > 1:\n",
    "                    compressed.append(str(count))\n",
    "                compressed.append(string[i])\n",
    "                last_char = string[i]\n",
    "                count = 1\n",
    "            else:\n",
    "                count = count + 1\n",
    "        if count > 1:\n",
    "            compressed.append(str(count))\n",
    "\n",
    "        if len(''.join(compressed)) < len(string):\n",
    "            return ''.join(compressed)\n",
    "        \n",
    "        return string"
   ]
  },
  {
   "cell_type": "markdown",
   "metadata": {},
   "source": [
    "## Teste Unitário"
   ]
  },
  {
   "cell_type": "code",
   "execution_count": 2,
   "metadata": {},
   "outputs": [
    {
     "name": "stdout",
     "output_type": "stream",
     "text": [
      "Overwriting test_compress.py\n"
     ]
    }
   ],
   "source": [
    "%%writefile test_compress.py\n",
    "import unittest\n",
    "\n",
    "\n",
    "class TestCompress(unittest.TestCase):\n",
    "\n",
    "    def test_compress(self, func):\n",
    "        self.assertEqual(func(None), None)\n",
    "        self.assertEqual(func(''), '')\n",
    "        self.assertEqual(func('AABBCC'), 'AABBCC')\n",
    "        self.assertEqual(func('AAABCCDDDDE'), 'A3BC2D4E')\n",
    "        self.assertEqual(func('BAAACCDDDD'), 'BA3C2D4')\n",
    "        self.assertEqual(func('AAABAACCDDDD'), 'A3BA2C2D4')\n",
    "        print('Success: test_compress')\n",
    "\n",
    "\n",
    "def main():\n",
    "    test = TestCompress()\n",
    "    compress_string = CompressString()\n",
    "    test.test_compress(compress_string.compress)\n",
    "\n",
    "\n",
    "if __name__ == '__main__':\n",
    "    main()"
   ]
  },
  {
   "cell_type": "code",
   "execution_count": 3,
   "metadata": {},
   "outputs": [
    {
     "name": "stdout",
     "output_type": "stream",
     "text": [
      "Success: test_compress\n"
     ]
    }
   ],
   "source": [
    "%run -i test_compress.py"
   ]
  }
 ],
 "metadata": {
  "kernelspec": {
   "display_name": "Python 3",
   "language": "python",
   "name": "python3"
  },
  "language_info": {
   "codemirror_mode": {
    "name": "ipython",
    "version": 3
   },
   "file_extension": ".py",
   "mimetype": "text/x-python",
   "name": "python",
   "nbconvert_exporter": "python",
   "pygments_lexer": "ipython3",
   "version": "3.6.9"
  }
 },
 "nbformat": 4,
 "nbformat_minor": 4
}
