{
 "cells": [
  {
   "cell_type": "markdown",
   "metadata": {},
   "source": [
    "Esse notebook foi feito por [Donne Martin](http://donnemartin.com).  Código fonte e informações sobre a licença no [GitHub](https://github.com/donnemartin/interactive-coding-challenges).\n",
    "\n",
    "Tradução: Rogerio Alves"
   ]
  },
  {
   "cell_type": "markdown",
   "metadata": {},
   "source": [
    "# Desafio"
   ]
  },
  {
   "cell_type": "markdown",
   "metadata": {},
   "source": [
    "## Problema: Determinar se uma string é uma permutação de uma outra string.\n",
    "\n",
    "* [Restrições](#Restrições)\n",
    "* [Casos de Teste](#Casos-de-Teste)\n",
    "* [Algoritimo](#Algoritmo)\n",
    "* [Código](#Código)\n",
    "* [Test Unitário](#Teste-Unitário)\n",
    "* [Solução](#Solução)"
   ]
  },
  {
   "cell_type": "markdown",
   "metadata": {},
   "source": [
    "## Restrições\n",
    "\n",
    "* Todos os caractéres da string são ASCII?\n",
    "    * Sim\n",
    "    * Nota: Dependendo da linguagem. caractéres Unicode podem necessitar de bibliotecas ou funções especificas.\n",
    "* Espaços em branco importam?\n",
    "    * Sim\n",
    "* Maiusculas e minusculas importam?  'Nib', 'bin' não são permutações?\n",
    "    * Sim\n",
    "* Posso usar estruturas de dados adicionais?\n",
    "    * Sim\n",
    "* Posso supor que as strings cambem na memória?\n",
    "    * Sim"
   ]
  },
  {
   "cell_type": "markdown",
   "metadata": {},
   "source": [
    "## Casos de Teste\n",
    "\n",
    "* Uma ou mais string nula (None) -> False\n",
    "* Uma ou mais string vazia (\"\") -> False\n",
    "* 'Nib', 'bin' -> False\n",
    "* 'act', 'cat' -> True\n",
    "* 'a ct', 'ca t' -> True"
   ]
  },
  {
   "cell_type": "markdown",
   "metadata": {},
   "source": [
    "## Algoritmo\n",
    "\n",
    "Veja a [Solução](http://nbviewer.ipython.org/github/donnemartin/interactive-coding-challenges/blob/master/arrays_strings/permutation/permutation_solution.ipynb).  Se estiver \"travado\" e precisar de uma dica, o notebook com solução discutida pode ser um bom lugar pra começar."
   ]
  },
  {
   "cell_type": "markdown",
   "metadata": {},
   "source": [
    "## Código"
   ]
  },
  {
   "cell_type": "code",
   "execution_count": 23,
   "metadata": {},
   "outputs": [],
   "source": [
    "class Permutations(object):\n",
    "\n",
    "    def is_permutation(self, str1, str2):\n",
    "        # TODO: Implement o codigo aqui\n",
    "        pass"
   ]
  },
  {
   "cell_type": "markdown",
   "metadata": {},
   "source": [
    "## Teste Unitário"
   ]
  },
  {
   "cell_type": "markdown",
   "metadata": {},
   "source": [
    "\n",
    "\n",
    "**É esperado que o test unitário abaixo falhe até que você consiga resolver o desafio.**"
   ]
  },
  {
   "cell_type": "code",
   "execution_count": 22,
   "metadata": {},
   "outputs": [
    {
     "name": "stdout",
     "output_type": "stream",
     "text": [
      "Success: test_permutation\n"
     ]
    }
   ],
   "source": [
    "# %load test_permutation_solution.py\n",
    "import unittest\n",
    "\n",
    "\n",
    "class TestPermutation(unittest.TestCase):\n",
    "\n",
    "    def test_permutation(self, func):\n",
    "        self.assertEqual(func(None, 'foo'), False)\n",
    "        self.assertEqual(func('', 'foo'), False)\n",
    "        self.assertEqual(func('Nib', 'bin'), False)\n",
    "        self.assertEqual(func('act', 'cat'), True)\n",
    "        self.assertEqual(func('a ct', 'ca t'), True)\n",
    "        self.assertEqual(func('dog', 'doggo'), False)\n",
    "        print('Success: test_permutation')\n",
    "\n",
    "\n",
    "def main():\n",
    "    test = TestPermutation()\n",
    "    permutations = Permutations()\n",
    "    test.test_permutation(permutations.is_permutation)\n",
    "    try:\n",
    "        permutations_alt = PermutationsAlt()\n",
    "        test.test_permutation(permutations_alt.is_permutation)\n",
    "    except NameError:\n",
    "        # Alternate solutions are only defined\n",
    "        # in the solutions file\n",
    "        pass\n",
    "\n",
    "\n",
    "if __name__ == '__main__':\n",
    "    main()"
   ]
  },
  {
   "cell_type": "markdown",
   "metadata": {},
   "source": [
    "## Solução\n",
    "\n",
    "Revise a [Solução](http://nbviewer.ipython.org/github/donnemartin/interactive-coding-challenges/blob/master/arrays_strings/permutation/permutation_solution.ipynb) para uma discussão sobre o algoritmo e o código de solução."
   ]
  },
  {
   "cell_type": "code",
   "execution_count": null,
   "metadata": {},
   "outputs": [],
   "source": []
  }
 ],
 "metadata": {
  "kernelspec": {
   "display_name": "Python 3",
   "language": "python",
   "name": "python3"
  },
  "language_info": {
   "codemirror_mode": {
    "name": "ipython",
    "version": 3
   },
   "file_extension": ".py",
   "mimetype": "text/x-python",
   "name": "python",
   "nbconvert_exporter": "python",
   "pygments_lexer": "ipython3",
   "version": "3.6.9"
  }
 },
 "nbformat": 4,
 "nbformat_minor": 4
}
