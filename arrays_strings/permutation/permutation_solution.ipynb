{
 "cells": [
  {
   "cell_type": "markdown",
   "metadata": {},
   "source": [
    "Esse notebook foi feito por [Donne Martin](http://donnemartin.com).  Código fonte e informações sobre a licença no [GitHub](https://github.com/donnemartin/interactive-coding-challenges).\n",
    "\n",
    "Tradução: Rogerio Alves"
   ]
  },
  {
   "cell_type": "markdown",
   "metadata": {},
   "source": [
    "# Solução"
   ]
  },
  {
   "cell_type": "markdown",
   "metadata": {},
   "source": [
    "## Problema: Determinar se uma string é uma permutação de uma outra string.\n",
    "\n",
    "* [Restrições](#Restrições)\n",
    "* [Casos de Teste](#Casos-de-Teste)\n",
    "* [Algoritmo: Comparar Strings Ordenadas](#Algoritmo:-Comparar-Strings-Ordenadas)\n",
    "* [Código: Comparar Strings Ordenadas](#Código:-Comparar-Strings-Ordenadas)\n",
    "* [Algorithm: Hashmap Lookup](#Algoritmo:-Hash-Map-Lookup)\n",
    "* [Código: Hashmap Lookup](#Código:-Hash-Map-Lookup)\n",
    "* [Teste Unitário](#Teste-Unitário)"
   ]
  },
  {
   "cell_type": "markdown",
   "metadata": {},
   "source": [
    "## Restrições\n",
    "\n",
    "* Todos os caractéres da string são ASCII?\n",
    "    * Sim\n",
    "    * Nota: Dependendo da linguagem. caractéres Unicode podem necessitar de bibliotecas ou funções especificas.\n",
    "* Espaços em branco importam?\n",
    "    * Sim\n",
    "* Maiusculas e minusculas importam?  'Nib', 'bin' não são permutações?\n",
    "    * Sim\n",
    "* Posso usar estruturas de dados adicionais?\n",
    "    * Sim\n",
    "* Posso supor que as strings cambem na memória?\n",
    "    * Sim"
   ]
  },
  {
   "cell_type": "markdown",
   "metadata": {},
   "source": [
    "## Casos de Teste\n",
    "\n",
    "* Uma ou mais string nula (None) -> False\n",
    "* Uma ou mais string vazia (\"\") -> False\n",
    "* 'Nib', 'bin' -> False\n",
    "* 'act', 'cat' -> True\n",
    "* 'a ct', 'ca t' -> True\n",
    "* 'dog', 'dogoo' -> False"
   ]
  },
  {
   "cell_type": "markdown",
   "metadata": {},
   "source": [
    "## Algoritmo: Comparar Strings Ordenadas\n",
    "\n",
    "A permutação de uma string contém os mesmos caractéres em ordem diferente.  Essa abordagem pode ser um pouco lenta para strings muito grandes por causa da ordenação.\n",
    "\n",
    "* Ordenar ambas strings\n",
    "* Se ambas as strings ordenadas são iguais\n",
    "    * Retorne Verdadeiro\n",
    "* Senão\n",
    "    * Retorne Falso\n",
    "\n",
    "Complexidade:\n",
    "* Tempo: O(n log n) para a ordenação, normalmente\n",
    "* Memória: O(n)"
   ]
  },
  {
   "cell_type": "markdown",
   "metadata": {},
   "source": [
    "## Código: Comparar Strings Ordenadas"
   ]
  },
  {
   "cell_type": "code",
   "execution_count": 1,
   "metadata": {},
   "outputs": [],
   "source": [
    "class Permutations(object):\n",
    "\n",
    "    def is_permutation(self, str1, str2):\n",
    "        if str1 is None or str2 is None:\n",
    "            return False\n",
    "        return sorted(str1) == sorted(str2)"
   ]
  },
  {
   "cell_type": "markdown",
   "metadata": {},
   "source": [
    "## Algoritmo: Hash Map Lookup\n",
    "\n",
    "Usar um hash map (dict) para manter registrados os caractéres encontrados.\n",
    "\n",
    "Steps:\n",
    "* Ler cada caractére\n",
    "* Para cada caractére em cada string:\n",
    "    * Se o caractére não existe no hash map, adicione o caractére ao hash map\n",
    "    * Senão, incremente o contador de caractéres\n",
    "* Se o hash map de ambas as strings for igual\n",
    "    * Retorne Verdadeiro\n",
    "* Senão\n",
    "    * Retorne Falso\n",
    "\n",
    "Notas:\n",
    "* Como os caractéres fazem parte da tábela ASCII, seria possível utilizar um array com tamanho igual a 128 (ou 256 para a tabela extendida) onde cada índice equivale a um valor da tabela ASCII\n",
    "* Ao invés de usar duas tabelas hash, poderiamos utilizar uma única tabela e incrementar o contador de caractére para a primeira string e decrementar para a seconda string\n",
    "* Você pode comparar o comprimento das duas strings e retornar falso caso o comprimento de ambas não for o mesmo (curto circuíto). Entretanto, no Python a função len() tem ten tempo de execução constante O(1) enquando em outras linguagens, como C, pode ser O(n)\n",
    "\n",
    "Complexidade:\n",
    "* Tempo: O(n)\n",
    "* Memória: O(n)"
   ]
  },
  {
   "cell_type": "markdown",
   "metadata": {},
   "source": [
    "## Código: Hash Map Lookup"
   ]
  },
  {
   "cell_type": "code",
   "execution_count": 2,
   "metadata": {},
   "outputs": [],
   "source": [
    "from collections import defaultdict\n",
    "\n",
    "\n",
    "class PermutationsAlt(object):\n",
    "\n",
    "    def is_permutation(self, str1, str2):\n",
    "        if str1 is None or str2 is None:\n",
    "            return False\n",
    "        if len(str1) != len(str2):\n",
    "            return False\n",
    "        unique_counts1 = defaultdict(int)\n",
    "        unique_counts2 = defaultdict(int)\n",
    "        for char in str1:\n",
    "            unique_counts1[char] += 1\n",
    "        for char in str2:\n",
    "            unique_counts2[char] += 1\n",
    "        return unique_counts1 == unique_counts2"
   ]
  },
  {
   "cell_type": "markdown",
   "metadata": {},
   "source": [
    "## Teste Unitário"
   ]
  },
  {
   "cell_type": "code",
   "execution_count": 3,
   "metadata": {},
   "outputs": [
    {
     "name": "stdout",
     "output_type": "stream",
     "text": [
      "Overwriting test_permutation_solution.py\n"
     ]
    }
   ],
   "source": [
    "%%writefile test_permutation_solution.py\n",
    "import unittest\n",
    "\n",
    "\n",
    "class TestPermutation(unittest.TestCase):\n",
    "\n",
    "    def test_permutation(self, func):\n",
    "        self.assertEqual(func(None, 'foo'), False)\n",
    "        self.assertEqual(func('', 'foo'), False)\n",
    "        self.assertEqual(func('Nib', 'bin'), False)\n",
    "        self.assertEqual(func('act', 'cat'), True)\n",
    "        self.assertEqual(func('a ct', 'ca t'), True)\n",
    "        self.assertEqual(func('dog', 'doggo'), False)\n",
    "        print('Success: test_permutation')\n",
    "\n",
    "\n",
    "def main():\n",
    "    test = TestPermutation()\n",
    "    permutations = Permutations()\n",
    "    test.test_permutation(permutations.is_permutation)\n",
    "    try:\n",
    "        permutations_alt = PermutationsAlt()\n",
    "        test.test_permutation(permutations_alt.is_permutation)\n",
    "    except NameError:\n",
    "        # Alternate solutions are only defined\n",
    "        # in the solutions file\n",
    "        pass\n",
    "\n",
    "\n",
    "if __name__ == '__main__':\n",
    "    main()"
   ]
  },
  {
   "cell_type": "code",
   "execution_count": 4,
   "metadata": {},
   "outputs": [
    {
     "name": "stdout",
     "output_type": "stream",
     "text": [
      "Success: test_permutation\n",
      "Success: test_permutation\n"
     ]
    }
   ],
   "source": [
    "run -i test_permutation_solution.py"
   ]
  }
 ],
 "metadata": {
  "kernelspec": {
   "display_name": "Python 3",
   "language": "python",
   "name": "python3"
  },
  "language_info": {
   "codemirror_mode": {
    "name": "ipython",
    "version": 3
   },
   "file_extension": ".py",
   "mimetype": "text/x-python",
   "name": "python",
   "nbconvert_exporter": "python",
   "pygments_lexer": "ipython3",
   "version": "3.6.9"
  }
 },
 "nbformat": 4,
 "nbformat_minor": 4
}
